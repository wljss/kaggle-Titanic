{
 "cells": [
  {
   "cell_type": "code",
   "execution_count": 7,
   "id": "62ed4076",
   "metadata": {},
   "outputs": [
    {
     "name": "stdout",
     "output_type": "stream",
     "text": [
      "Index(['PassengerId', 'Survived', 'Pclass', 'Name', 'Sex', 'Age', 'SibSp',\n",
      "       'Parch', 'Ticket', 'Fare', 'Cabin', 'Embarked'],\n",
      "      dtype='object')\n"
     ]
    }
   ],
   "source": [
    "import pandas as pd\n",
    "from sklearn.ensemble import RandomForestClassifier\n",
    "\n",
    "train_data = pd.read_csv(\"titanic-data/train.csv\")\n",
    "test_data = pd.read_csv(\"titanic-data/test.csv\")\n",
    "\n",
    "print(train_data.columns)#输出表头信息\n",
    "#print(train_data.head(5))#输出前5行\n",
    "\n",
    "\n",
    "y = train_data[\"Survived\"]\n",
    "features = [\"Pclass\", \"Sex\", \"Age\", \"SibSp\", \"Parch\"]#利用这些特征来做决策树\n",
    "x = pd.get_dummies(train_data[features])\n",
    "\n",
    "# print(train_data[\"Age\"].sum()/len(train_data[\"Age\"]))#23.79\n",
    "x = x.fillna(24)#用平均值来填充\n",
    "\n",
    "model = RandomForestClassifier(n_estimators=100 , max_depth=5 , random_state=233 ) #随机森林，参数分别是决策树数量、树最大深度和随机数种子\n",
    "model.fit(x, y)#训练模型\n",
    "\n",
    "myIn = pd.get_dummies(test_data[features])\n",
    "myIn = myIn.fillna(24)\n",
    "predictions = model.predict(myIn) #利用模型进行预测\n",
    "\n",
    "myAns = pd.DataFrame({'PassengerId': test_data.PassengerId, 'Survived': predictions})\n",
    "myAns.to_csv('titanic-data/myAns.csv', index=False)"
   ]
  }
 ],
 "metadata": {
  "kernelspec": {
   "display_name": "jqxx",
   "language": "python",
   "name": "python3"
  },
  "language_info": {
   "codemirror_mode": {
    "name": "ipython",
    "version": 3
   },
   "file_extension": ".py",
   "mimetype": "text/x-python",
   "name": "python",
   "nbconvert_exporter": "python",
   "pygments_lexer": "ipython3",
   "version": "3.7.16"
  }
 },
 "nbformat": 4,
 "nbformat_minor": 5
}
